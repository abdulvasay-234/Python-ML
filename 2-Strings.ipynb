{
 "cells": [
  {
   "cell_type": "code",
   "execution_count": 1,
   "id": "96ebe6cf",
   "metadata": {},
   "outputs": [
    {
     "name": "stdout",
     "output_type": "stream",
     "text": [
      "My name is Abdul Rais\n",
      "I am Online Smart Trainer\n",
      "''This code is\n",
      " an example to the\n",
      " triple quotes\n"
     ]
    }
   ],
   "source": [
    "#Using single quotes \n",
    "str1 = 'My name is Abdul Rais' \n",
    "print(str1) \n",
    "#Using double quotes \n",
    "str2 = \"I am Online Smart Trainer\" \n",
    "print(str2) \n",
    " \n",
    "#Using triple quotes \n",
    "str3 = '''''This code is\n",
    " an example to the\n",
    " triple quotes''' \n",
    "print(str3)\n"
   ]
  },
  {
   "cell_type": "code",
   "execution_count": null,
   "id": "e712e636",
   "metadata": {},
   "outputs": [],
   "source": []
  }
 ],
 "metadata": {
  "kernelspec": {
   "display_name": "Python 3 (ipykernel)",
   "language": "python",
   "name": "python3"
  },
  "language_info": {
   "codemirror_mode": {
    "name": "ipython",
    "version": 3
   },
   "file_extension": ".py",
   "mimetype": "text/x-python",
   "name": "python",
   "nbconvert_exporter": "python",
   "pygments_lexer": "ipython3",
   "version": "3.9.12"
  }
 },
 "nbformat": 4,
 "nbformat_minor": 5
}
