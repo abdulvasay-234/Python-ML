{
 "cells": [
  {
   "cell_type": "code",
   "execution_count": 15,
   "id": "34d1a1bc",
   "metadata": {},
   "outputs": [
    {
     "name": "stdout",
     "output_type": "stream",
     "text": [
      "['Orange', 'strawberry', 'cherry']\n"
     ]
    }
   ],
   "source": [
    "#Create a list\n",
    "thislist = [\"Orange\", \"strawberry\", \"cherry\"]\n",
    "print(thislist)"
   ]
  },
  {
   "cell_type": "code",
   "execution_count": 2,
   "id": "04a0dbc0",
   "metadata": {},
   "outputs": [
    {
     "name": "stdout",
     "output_type": "stream",
     "text": [
      "strawberry\n"
     ]
    }
   ],
   "source": [
    "#Access list items\n",
    "thislist = [\"Orange\", \"strawberry\", \"cherry\"]\n",
    "print(thislist[1])"
   ]
  },
  {
   "cell_type": "code",
   "execution_count": 3,
   "id": "d94e9805",
   "metadata": {},
   "outputs": [
    {
     "name": "stdout",
     "output_type": "stream",
     "text": [
      "['Orange', 'blackcurrant', 'cherry']\n"
     ]
    }
   ],
   "source": [
    "#Change the value of a list item\n",
    "thislist = [\"Orange\", \"strawberry\", \"cherry\"]\n",
    "thislist[1] = \"blackcurrant\"\n",
    "print(thislist)"
   ]
  },
  {
   "cell_type": "code",
   "execution_count": 5,
   "id": "c8e913a2",
   "metadata": {},
   "outputs": [
    {
     "name": "stdout",
     "output_type": "stream",
     "text": [
      "Orange\n",
      "strawberry\n",
      "cherry\n"
     ]
    }
   ],
   "source": [
    "#Loop through a list\n",
    "thislist = [\"Orange\", \"strawberry\", \"cherry\"]\n",
    "for x in thislist:\n",
    "    print(x)"
   ]
  },
  {
   "cell_type": "code",
   "execution_count": 6,
   "id": "c1a7f3bd",
   "metadata": {},
   "outputs": [
    {
     "name": "stdout",
     "output_type": "stream",
     "text": [
      "Yes, 'Orange' is in the fruits list\n"
     ]
    }
   ],
   "source": [
    "#Check if a list item exists\n",
    "thislist = [\"Orange\", \"strawberry\", \"cherry\"]\n",
    "if \"Orange\" in thislist:\n",
    " print(\"Yes, 'Orange' is in the fruits list\")"
   ]
  },
  {
   "cell_type": "code",
   "execution_count": 7,
   "id": "ee6979a8",
   "metadata": {},
   "outputs": [
    {
     "name": "stdout",
     "output_type": "stream",
     "text": [
      "3\n"
     ]
    }
   ],
   "source": [
    "#Get the length of a list\n",
    "thislist = [\"Orange\", \"strawberry\", \"cherry\"]\n",
    "print(len(thislist))"
   ]
  },
  {
   "cell_type": "code",
   "execution_count": 8,
   "id": "72b5ee0e",
   "metadata": {},
   "outputs": [
    {
     "name": "stdout",
     "output_type": "stream",
     "text": [
      "['Orange', 'strawberry', 'cherry', 'appple']\n"
     ]
    }
   ],
   "source": [
    "#Add an item to the end of the a list\n",
    "thislist = [\"Orange\", \"strawberry\", \"cherry\"]\n",
    "thislist.append(\"appple\")\n",
    "print(thislist)"
   ]
  },
  {
   "cell_type": "code",
   "execution_count": 9,
   "id": "bda85d1d",
   "metadata": {},
   "outputs": [
    {
     "name": "stdout",
     "output_type": "stream",
     "text": [
      "['Orange', 'apple', 'strawberry', 'cherry']\n"
     ]
    }
   ],
   "source": [
    "#Add an item at a specified index\n",
    "thislist = [\"Orange\", \"strawberry\", \"cherry\"]\n",
    "thislist.insert(1, \"apple\")\n",
    "print(thislist)"
   ]
  },
  {
   "cell_type": "code",
   "execution_count": 11,
   "id": "65af73a0",
   "metadata": {},
   "outputs": [
    {
     "name": "stdout",
     "output_type": "stream",
     "text": [
      "['Orange', 'cherry']\n"
     ]
    }
   ],
   "source": [
    "#Remove an item\n",
    "thislist = [\"Orange\", \"strawberry\", \"cherry\"]\n",
    "thislist.remove(\"strawberry\")\n",
    "print(thislist)"
   ]
  },
  {
   "cell_type": "code",
   "execution_count": 12,
   "id": "3bd38a28",
   "metadata": {},
   "outputs": [
    {
     "name": "stdout",
     "output_type": "stream",
     "text": [
      "['Orange', 'strawberry']\n"
     ]
    }
   ],
   "source": [
    "#Remove the last item\n",
    "thislist = [\"Orange\", \"strawberry\", \"cherry\"]\n",
    "thislist.pop()\n",
    "print(thislist)"
   ]
  },
  {
   "cell_type": "code",
   "execution_count": 13,
   "id": "4f2a69b4",
   "metadata": {},
   "outputs": [
    {
     "name": "stdout",
     "output_type": "stream",
     "text": [
      "['strawberry', 'cherry']\n"
     ]
    }
   ],
   "source": [
    "#Remove an item at a specified index\n",
    "thislist = [\"Orange\", \"strawberry\", \"cherry\"]\n",
    "del thislist[0]\n",
    "print(thislist)"
   ]
  },
  {
   "cell_type": "code",
   "execution_count": 14,
   "id": "a2e6e41a",
   "metadata": {},
   "outputs": [
    {
     "name": "stdout",
     "output_type": "stream",
     "text": [
      "[]\n"
     ]
    }
   ],
   "source": [
    "#Empty list\n",
    "thislist = [\"Orange\", \"strawberry\", \"cherry\"]\n",
    "thislist.clear()\n",
    "print(thislist)"
   ]
  },
  {
   "cell_type": "code",
   "execution_count": null,
   "id": "abdeb829",
   "metadata": {},
   "outputs": [],
   "source": []
  }
 ],
 "metadata": {
  "kernelspec": {
   "display_name": "Python 3 (ipykernel)",
   "language": "python",
   "name": "python3"
  },
  "language_info": {
   "codemirror_mode": {
    "name": "ipython",
    "version": 3
   },
   "file_extension": ".py",
   "mimetype": "text/x-python",
   "name": "python",
   "nbconvert_exporter": "python",
   "pygments_lexer": "ipython3",
   "version": "3.9.12"
  }
 },
 "nbformat": 4,
 "nbformat_minor": 5
}
