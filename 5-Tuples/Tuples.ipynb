{
 "cells": [
  {
   "cell_type": "code",
   "execution_count": 14,
   "id": "34ff0b89",
   "metadata": {},
   "outputs": [
    {
     "name": "stdout",
     "output_type": "stream",
     "text": [
      "('Orange', 'strawberry', 'cherry')\n"
     ]
    }
   ],
   "source": [
    "#Create a tuple\n",
    "thistuple = (\"Orange\", \"strawberry\", \"cherry\")\n",
    "print(thistuple)"
   ]
  },
  {
   "cell_type": "code",
   "execution_count": 15,
   "id": "cbbfdf7a",
   "metadata": {},
   "outputs": [
    {
     "name": "stdout",
     "output_type": "stream",
     "text": [
      "strawberry\n"
     ]
    }
   ],
   "source": [
    "#Access tuple items\n",
    "thistuple = (\"Orange\", \"strawberry\", \"cherry\")\n",
    "print(thistuple[1])"
   ]
  },
  {
   "cell_type": "code",
   "execution_count": 16,
   "id": "ab05dc09",
   "metadata": {},
   "outputs": [
    {
     "name": "stdout",
     "output_type": "stream",
     "text": [
      "Orange\n",
      "strawberry\n",
      "cherry\n"
     ]
    }
   ],
   "source": [
    "#Loop through a tuple\n",
    "thistuple = (\"Orange\", \"strawberry\", \"cherry\")\n",
    "for x in thistuple:\n",
    "    print(x)"
   ]
  },
  {
   "cell_type": "code",
   "execution_count": 17,
   "id": "91ec0e64",
   "metadata": {},
   "outputs": [
    {
     "name": "stdout",
     "output_type": "stream",
     "text": [
      "Yes, 'Orange' is in the fruits tuple\n"
     ]
    }
   ],
   "source": [
    "#Check if a tuple item exists\n",
    "thistuple = (\"Orange\", \"strawberry\", \"cherry\")\n",
    "if \"Orange\" in thistuple:\n",
    " print(\"Yes, 'Orange' is in the fruits tuple\")\n"
   ]
  },
  {
   "cell_type": "code",
   "execution_count": 18,
   "id": "976c6de6",
   "metadata": {},
   "outputs": [
    {
     "name": "stdout",
     "output_type": "stream",
     "text": [
      "3\n"
     ]
    }
   ],
   "source": [
    "#Get the length of a tuple\n",
    "thistuple = (\"Orange\", \"strawberry\", \"cherry\")\n",
    "print(len(thistuple))"
   ]
  },
  {
   "cell_type": "code",
   "execution_count": 19,
   "id": "dd0116d6",
   "metadata": {},
   "outputs": [
    {
     "name": "stdout",
     "output_type": "stream",
     "text": [
      "('Orange', 'strawberry', 'cherry')\n"
     ]
    }
   ],
   "source": [
    "#Using the tuple() constructor to create a tuple\n",
    "thistuple = tuple((\"Orange\", \"strawberry\", \"cherry\"))\n",
    "print(thistuple)\n"
   ]
  },
  {
   "cell_type": "code",
   "execution_count": null,
   "id": "2a696eaa",
   "metadata": {},
   "outputs": [],
   "source": []
  }
 ],
 "metadata": {
  "kernelspec": {
   "display_name": "Python 3 (ipykernel)",
   "language": "python",
   "name": "python3"
  },
  "language_info": {
   "codemirror_mode": {
    "name": "ipython",
    "version": 3
   },
   "file_extension": ".py",
   "mimetype": "text/x-python",
   "name": "python",
   "nbconvert_exporter": "python",
   "pygments_lexer": "ipython3",
   "version": "3.9.12"
  }
 },
 "nbformat": 4,
 "nbformat_minor": 5
}
