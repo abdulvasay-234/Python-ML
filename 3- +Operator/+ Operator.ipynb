{
 "cells": [
  {
   "cell_type": "code",
   "execution_count": 1,
   "id": "61a85b5c",
   "metadata": {},
   "outputs": [
    {
     "name": "stdout",
     "output_type": "stream",
     "text": [
      "Git Hub\n"
     ]
    }
   ],
   "source": [
    "# Defining strings \n",
    "str1 = \"Git \" \n",
    "str2 = \"Hub\" \n",
    " \n",
    "# + Operator is used to strings concatenation \n",
    "str3 = str1 + str2 \n",
    "print(str3) # Printing the new combined string"
   ]
  },
  {
   "cell_type": "code",
   "execution_count": null,
   "id": "51ec3863",
   "metadata": {},
   "outputs": [],
   "source": []
  }
 ],
 "metadata": {
  "kernelspec": {
   "display_name": "Python 3 (ipykernel)",
   "language": "python",
   "name": "python3"
  },
  "language_info": {
   "codemirror_mode": {
    "name": "ipython",
    "version": 3
   },
   "file_extension": ".py",
   "mimetype": "text/x-python",
   "name": "python",
   "nbconvert_exporter": "python",
   "pygments_lexer": "ipython3",
   "version": "3.9.12"
  }
 },
 "nbformat": 4,
 "nbformat_minor": 5
}
